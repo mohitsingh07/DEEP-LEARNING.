{
  "cells": [
    {
      "cell_type": "markdown",
      "metadata": {
        "id": "view-in-github",
        "colab_type": "text"
      },
      "source": [
        "<a href=\"https://colab.research.google.com/github/mohitsingh07/DEEP-LEARNING./blob/main/assignment1.ipynb\" target=\"_parent\"><img src=\"https://colab.research.google.com/assets/colab-badge.svg\" alt=\"Open In Colab\"/></a>"
      ]
    },
    {
      "cell_type": "code",
      "execution_count": 1,
      "id": "daca898f",
      "metadata": {
        "id": "daca898f"
      },
      "outputs": [],
      "source": [
        "import numpy as np\n",
        "import pandas as pd\n",
        "from matplotlib import pyplot as plt\n"
      ]
    },
    {
      "cell_type": "code",
      "source": [
        "from google.colab import drive\n",
        "drive.mount('/content/drive')"
      ],
      "metadata": {
        "colab": {
          "base_uri": "https://localhost:8080/"
        },
        "id": "NfN29NT0mLt2",
        "outputId": "9843206f-664e-41bb-bc82-a69784a29337"
      },
      "id": "NfN29NT0mLt2",
      "execution_count": 2,
      "outputs": [
        {
          "output_type": "stream",
          "name": "stdout",
          "text": [
            "Mounted at /content/drive\n"
          ]
        }
      ]
    },
    {
      "cell_type": "code",
      "execution_count": 3,
      "id": "49609928",
      "metadata": {
        "id": "49609928"
      },
      "outputs": [],
      "source": [
        "data = pd.read_csv(\"/content/drive/MyDrive/assignments/minist/mnist_train.csv\")"
      ]
    },
    {
      "cell_type": "code",
      "execution_count": 4,
      "id": "700812fc",
      "metadata": {
        "id": "700812fc"
      },
      "outputs": [],
      "source": [
        "data = np.array(data)\n",
        "m, n = data.shape\n",
        "np.random.shuffle(data)\n",
        "\n",
        "data_test = data[0:1000].T\n",
        "Y_test = data_test[0]\n",
        "X_test = data_test[1:n]\n",
        "X_test = X_test / 255.\n",
        "\n",
        "data_train = data[10000:m].T\n",
        "Y_train = data_train[0]\n",
        "X_train = data_train[1:n]\n",
        "X_train = X_train / 255.\n",
        "_,m_train = X_train.shape"
      ]
    },
    {
      "cell_type": "code",
      "execution_count": 5,
      "id": "201d9fa5",
      "metadata": {
        "colab": {
          "base_uri": "https://localhost:8080/"
        },
        "id": "201d9fa5",
        "outputId": "db6d1447-39b5-404c-d10f-8acb7636f544"
      },
      "outputs": [
        {
          "output_type": "execute_result",
          "data": {
            "text/plain": [
              "(784, 50000)"
            ]
          },
          "metadata": {},
          "execution_count": 5
        }
      ],
      "source": [
        "X_train.shape"
      ]
    },
    {
      "cell_type": "code",
      "execution_count": 6,
      "id": "2bed0f3d",
      "metadata": {
        "id": "2bed0f3d"
      },
      "outputs": [],
      "source": [
        "def init_params():\n",
        "    W1 = np.random.rand(10, 784) - 0.5\n",
        "    b1 = np.random.rand(10, 1) - 0.5\n",
        "    W2 = np.random.rand(10, 10) - 0.5\n",
        "    b2 = np.random.rand(10, 1) - 0.5\n",
        "    return W1, b1, W2, b2\n"
      ]
    },
    {
      "cell_type": "code",
      "execution_count": 7,
      "id": "0b6da2ae",
      "metadata": {
        "id": "0b6da2ae"
      },
      "outputs": [],
      "source": [
        "def ReLU(Z):\n",
        "    return np.maximum(Z, 0)"
      ]
    },
    {
      "cell_type": "code",
      "execution_count": 8,
      "id": "656b73b3",
      "metadata": {
        "id": "656b73b3"
      },
      "outputs": [],
      "source": [
        "def softmax(Z):\n",
        "    A = np.exp(Z) / sum(np.exp(Z))\n",
        "    return A"
      ]
    },
    {
      "cell_type": "code",
      "execution_count": 9,
      "id": "6195ce0f",
      "metadata": {
        "id": "6195ce0f"
      },
      "outputs": [],
      "source": [
        "def forward_prop(W1, b1, W2, b2, X):\n",
        "    Z1 = W1.dot(X) + b1\n",
        "    A1 = ReLU(Z1)\n",
        "    Z2 = W2.dot(A1) + b2\n",
        "    A2 = softmax(Z2)\n",
        "    return Z1, A1, Z2, A2\n"
      ]
    },
    {
      "cell_type": "code",
      "execution_count": 10,
      "id": "6913c95b",
      "metadata": {
        "id": "6913c95b"
      },
      "outputs": [],
      "source": [
        "def ReLU_deriv(Z):\n",
        "    return Z > 0\n"
      ]
    },
    {
      "cell_type": "code",
      "execution_count": 11,
      "id": "5621f0c1",
      "metadata": {
        "id": "5621f0c1"
      },
      "outputs": [],
      "source": [
        "def one_hot(Y):\n",
        "    one_hot_Y = np.zeros((Y.size, Y.max() + 1))\n",
        "    one_hot_Y[np.arange(Y.size), Y] = 1\n",
        "    one_hot_Y = one_hot_Y.T\n",
        "    return one_hot_Y"
      ]
    },
    {
      "cell_type": "code",
      "execution_count": 12,
      "id": "e8b57b12",
      "metadata": {
        "id": "e8b57b12"
      },
      "outputs": [],
      "source": [
        "def backward_prop(Z1, A1, Z2, A2, W1, W2, X, Y):\n",
        "    one_hot_Y = one_hot(Y)\n",
        "    dZ2 = A2 - one_hot_Y\n",
        "    dW2 = 1 / m * dZ2.dot(A1.T)\n",
        "    db2 = 1 / m * np.sum(dZ2)\n",
        "    dZ1 = W2.T.dot(dZ2) * ReLU_deriv(Z1)\n",
        "    dW1 = 1 / m * dZ1.dot(X.T)\n",
        "    db1 = 1 / m * np.sum(dZ1)\n",
        "    return dW1, db1, dW2, db2"
      ]
    },
    {
      "cell_type": "code",
      "execution_count": 13,
      "id": "91e09d9e",
      "metadata": {
        "id": "91e09d9e"
      },
      "outputs": [],
      "source": [
        "def update_params(W1, b1, W2, b2, dW1, db1, dW2, db2, alpha):\n",
        "    W1 = W1 - alpha * dW1\n",
        "    b1 = b1 - alpha * db1\n",
        "    W2 = W2 - alpha * dW2\n",
        "    b2 = b2 - alpha * db2\n",
        "    return W1, b1, W2, b2"
      ]
    },
    {
      "cell_type": "code",
      "execution_count": 14,
      "id": "37931481",
      "metadata": {
        "id": "37931481"
      },
      "outputs": [],
      "source": [
        "def get_predictions(A2):\n",
        "    return np.argmax(A2, 0)\n",
        "\n",
        "def get_accuracy(predictions, Y):\n",
        "    print(predictions, Y)\n",
        "    return np.sum(predictions == Y) / Y.size\n",
        "\n",
        "def gradient_descent(X, Y, alpha, iterations):\n",
        "    W1, b1, W2, b2 = init_params()\n",
        "    for i in range(iterations):\n",
        "        Z1, A1, Z2, A2 = forward_prop(W1, b1, W2, b2, X)\n",
        "        dW1, db1, dW2, db2 = backward_prop(Z1, A1, Z2, A2, W1, W2, X, Y)\n",
        "        W1, b1, W2, b2 = update_params(W1, b1, W2, b2, dW1, db1, dW2, db2, alpha)\n",
        "        if i % 10 == 0:\n",
        "            print(\"Iteration: \", i)\n",
        "            predictions = get_predictions(A2)\n",
        "            print(get_accuracy(predictions, Y))\n",
        "    return W1, b1, W2, b2"
      ]
    },
    {
      "cell_type": "code",
      "execution_count": 15,
      "id": "9c1f079b",
      "metadata": {
        "colab": {
          "base_uri": "https://localhost:8080/"
        },
        "id": "9c1f079b",
        "outputId": "80a42fef-c9e5-4817-c35a-28522db037e7"
      },
      "outputs": [
        {
          "output_type": "stream",
          "name": "stdout",
          "text": [
            "Iteration:  0\n",
            "[1 1 1 ... 1 1 1] [7 3 1 ... 6 3 2]\n",
            "0.10036\n",
            "Iteration:  10\n",
            "[7 7 1 ... 7 7 2] [7 3 1 ... 6 3 2]\n",
            "0.18872\n",
            "Iteration:  20\n",
            "[7 7 1 ... 7 7 2] [7 3 1 ... 6 3 2]\n",
            "0.25218\n",
            "Iteration:  30\n",
            "[7 7 1 ... 7 7 2] [7 3 1 ... 6 3 2]\n",
            "0.30538\n",
            "Iteration:  40\n",
            "[7 6 1 ... 6 7 2] [7 3 1 ... 6 3 2]\n",
            "0.35878\n",
            "Iteration:  50\n",
            "[7 2 1 ... 6 6 2] [7 3 1 ... 6 3 2]\n",
            "0.41206\n",
            "Iteration:  60\n",
            "[7 2 1 ... 6 6 2] [7 3 1 ... 6 3 2]\n",
            "0.46084\n",
            "Iteration:  70\n",
            "[7 2 1 ... 6 6 2] [7 3 1 ... 6 3 2]\n",
            "0.50036\n",
            "Iteration:  80\n",
            "[7 2 1 ... 6 6 2] [7 3 1 ... 6 3 2]\n",
            "0.52972\n",
            "Iteration:  90\n",
            "[7 2 1 ... 6 6 2] [7 3 1 ... 6 3 2]\n",
            "0.55472\n",
            "Iteration:  100\n",
            "[7 2 1 ... 6 6 2] [7 3 1 ... 6 3 2]\n",
            "0.57884\n",
            "Iteration:  110\n",
            "[7 2 1 ... 6 6 2] [7 3 1 ... 6 3 2]\n",
            "0.5999\n",
            "Iteration:  120\n",
            "[7 2 1 ... 6 0 2] [7 3 1 ... 6 3 2]\n",
            "0.61942\n",
            "Iteration:  130\n",
            "[7 2 1 ... 6 0 2] [7 3 1 ... 6 3 2]\n",
            "0.6381\n",
            "Iteration:  140\n",
            "[7 2 1 ... 6 0 2] [7 3 1 ... 6 3 2]\n",
            "0.65414\n",
            "Iteration:  150\n",
            "[7 2 1 ... 6 0 2] [7 3 1 ... 6 3 2]\n",
            "0.66896\n",
            "Iteration:  160\n",
            "[7 2 1 ... 6 0 2] [7 3 1 ... 6 3 2]\n",
            "0.68222\n",
            "Iteration:  170\n",
            "[7 2 1 ... 6 0 2] [7 3 1 ... 6 3 2]\n",
            "0.69332\n",
            "Iteration:  180\n",
            "[7 2 1 ... 6 0 2] [7 3 1 ... 6 3 2]\n",
            "0.704\n",
            "Iteration:  190\n",
            "[7 2 1 ... 6 0 2] [7 3 1 ... 6 3 2]\n",
            "0.71414\n",
            "Iteration:  200\n",
            "[7 2 1 ... 6 0 2] [7 3 1 ... 6 3 2]\n",
            "0.72344\n",
            "Iteration:  210\n",
            "[7 2 1 ... 6 0 2] [7 3 1 ... 6 3 2]\n",
            "0.73208\n",
            "Iteration:  220\n",
            "[7 2 1 ... 6 0 2] [7 3 1 ... 6 3 2]\n",
            "0.7398\n",
            "Iteration:  230\n",
            "[7 2 1 ... 6 0 2] [7 3 1 ... 6 3 2]\n",
            "0.74698\n",
            "Iteration:  240\n",
            "[7 2 1 ... 6 0 2] [7 3 1 ... 6 3 2]\n",
            "0.75294\n",
            "Iteration:  250\n",
            "[7 2 1 ... 6 0 2] [7 3 1 ... 6 3 2]\n",
            "0.75876\n",
            "Iteration:  260\n",
            "[7 2 1 ... 6 0 2] [7 3 1 ... 6 3 2]\n",
            "0.76466\n",
            "Iteration:  270\n",
            "[7 2 1 ... 6 0 2] [7 3 1 ... 6 3 2]\n",
            "0.76962\n",
            "Iteration:  280\n",
            "[7 2 1 ... 6 0 2] [7 3 1 ... 6 3 2]\n",
            "0.77434\n",
            "Iteration:  290\n",
            "[7 2 1 ... 6 0 2] [7 3 1 ... 6 3 2]\n",
            "0.77838\n",
            "Iteration:  300\n",
            "[7 2 1 ... 6 0 2] [7 3 1 ... 6 3 2]\n",
            "0.78254\n",
            "Iteration:  310\n",
            "[7 2 1 ... 6 0 2] [7 3 1 ... 6 3 2]\n",
            "0.78662\n",
            "Iteration:  320\n",
            "[7 2 1 ... 6 0 2] [7 3 1 ... 6 3 2]\n",
            "0.79036\n",
            "Iteration:  330\n",
            "[7 2 1 ... 6 0 2] [7 3 1 ... 6 3 2]\n",
            "0.79376\n",
            "Iteration:  340\n",
            "[7 2 1 ... 6 0 2] [7 3 1 ... 6 3 2]\n",
            "0.79696\n",
            "Iteration:  350\n",
            "[7 3 1 ... 6 0 2] [7 3 1 ... 6 3 2]\n",
            "0.79974\n",
            "Iteration:  360\n",
            "[7 3 1 ... 6 0 2] [7 3 1 ... 6 3 2]\n",
            "0.80308\n",
            "Iteration:  370\n",
            "[7 3 1 ... 6 0 2] [7 3 1 ... 6 3 2]\n",
            "0.80582\n",
            "Iteration:  380\n",
            "[7 3 1 ... 6 0 2] [7 3 1 ... 6 3 2]\n",
            "0.8086\n",
            "Iteration:  390\n",
            "[7 3 1 ... 6 0 2] [7 3 1 ... 6 3 2]\n",
            "0.81104\n",
            "Iteration:  400\n",
            "[7 3 1 ... 6 0 2] [7 3 1 ... 6 3 2]\n",
            "0.81342\n",
            "Iteration:  410\n",
            "[7 3 1 ... 6 0 2] [7 3 1 ... 6 3 2]\n",
            "0.81586\n",
            "Iteration:  420\n",
            "[7 3 1 ... 6 0 2] [7 3 1 ... 6 3 2]\n",
            "0.81822\n",
            "Iteration:  430\n",
            "[7 3 1 ... 6 0 2] [7 3 1 ... 6 3 2]\n",
            "0.8203\n",
            "Iteration:  440\n",
            "[7 3 1 ... 6 0 2] [7 3 1 ... 6 3 2]\n",
            "0.82238\n",
            "Iteration:  450\n",
            "[7 3 1 ... 6 0 2] [7 3 1 ... 6 3 2]\n",
            "0.82452\n",
            "Iteration:  460\n",
            "[7 3 1 ... 6 0 2] [7 3 1 ... 6 3 2]\n",
            "0.82626\n",
            "Iteration:  470\n",
            "[7 3 1 ... 6 0 2] [7 3 1 ... 6 3 2]\n",
            "0.82782\n",
            "Iteration:  480\n",
            "[7 3 1 ... 6 0 2] [7 3 1 ... 6 3 2]\n",
            "0.82926\n",
            "Iteration:  490\n",
            "[7 3 1 ... 6 0 2] [7 3 1 ... 6 3 2]\n",
            "0.83094\n"
          ]
        }
      ],
      "source": [
        "W1, b1, W2, b2 = gradient_descent(X_train, Y_train, 0.10, 500)"
      ]
    },
    {
      "cell_type": "code",
      "execution_count": 16,
      "id": "1753d8e9",
      "metadata": {
        "id": "1753d8e9"
      },
      "outputs": [],
      "source": [
        "def make_predictions(X, W1, b1, W2, b2):\n",
        "    _, _, _, A2 = forward_prop(W1, b1, W2, b2, X)\n",
        "    predictions = get_predictions(A2)\n",
        "    return predictions\n",
        "\n",
        "def test_prediction(index, W1, b1, W2, b2):\n",
        "    current_image = X_train[:, index, None]\n",
        "    prediction = make_predictions(X_train[:, index, None], W1, b1, W2, b2)\n",
        "    label = Y_train[index]\n",
        "    print(\"Prediction: \", prediction)\n",
        "    print(\"Label: \", label)\n",
        "\n",
        "    current_image = current_image.reshape((28, 28)) * 255\n",
        "    plt.gray()\n",
        "    plt.imshow(current_image, interpolation='nearest')\n",
        "    plt.show()"
      ]
    },
    {
      "cell_type": "code",
      "execution_count": 17,
      "id": "daef90da",
      "metadata": {
        "colab": {
          "base_uri": "https://localhost:8080/",
          "height": 1000
        },
        "id": "daef90da",
        "outputId": "2a624528-7da5-4d98-91ae-7224ecdae8e7"
      },
      "outputs": [
        {
          "output_type": "stream",
          "name": "stdout",
          "text": [
            "Prediction:  [7]\n",
            "Label:  7\n"
          ]
        },
        {
          "output_type": "display_data",
          "data": {
            "text/plain": [
              "<Figure size 640x480 with 1 Axes>"
            ],
            "image/png": "[encoded data removed]"
          },
          "metadata": {}
        },
        {
          "output_type": "stream",
          "name": "stdout",
          "text": [
            "Prediction:  [3]\n",
            "Label:  3\n"
          ]
        },
        {
          "output_type": "display_data",
          "data": {
            "text/plain": [
              "<Figure size 640x480 with 1 Axes>"
            ],
            "image/png": "[encoded data removed]"
          },
          "metadata": {}
        },
        {
          "output_type": "stream",
          "name": "stdout",
          "text": [
            "Prediction:  [1]\n",
            "Label:  1\n"
          ]
        },
        {
          "output_type": "display_data",
          "data": {
            "text/plain": [
              "<Figure size 640x480 with 1 Axes>"
            ],
            "image/png": "[encoded data removed]"
          },
          "metadata": {}
        },
        {
          "output_type": "stream",
          "name": "stdout",
          "text": [
            "Prediction:  [6]\n",
            "Label:  6\n"
          ]
        },
        {
          "output_type": "display_data",
          "data": {
            "text/plain": [
              "<Figure size 640x480 with 1 Axes>"
            ],
            "image/png": "[encoded data removed]"
          },
          "metadata": {}
        }
      ],
      "source": [
        "test_prediction(0, W1, b1, W2, b2)\n",
        "test_prediction(1, W1, b1, W2, b2)\n",
        "test_prediction(2, W1, b1, W2, b2)\n",
        "test_prediction(3, W1, b1, W2, b2)"
      ]
    },
    {
      "cell_type": "code",
      "execution_count": null,
      "id": "15c60d14",
      "metadata": {
        "id": "15c60d14"
      },
      "outputs": [],
      "source": []
    }
  ],
  "metadata": {
    "kernelspec": {
      "display_name": "Python 3",
      "name": "python3"
    },
    "language_info": {
      "codemirror_mode": {
        "name": "ipython",
        "version": 3
      },
      "file_extension": ".py",
      "mimetype": "text/x-python",
      "name": "python",
      "nbconvert_exporter": "python",
      "pygments_lexer": "ipython3",
      "version": "3.9.7"
    },
    "colab": {
      "provenance": [],
      "gpuType": "T4",
      "include_colab_link": true
    },
    "accelerator": "GPU"
  },
  "nbformat": 4,
  "nbformat_minor": 5
}