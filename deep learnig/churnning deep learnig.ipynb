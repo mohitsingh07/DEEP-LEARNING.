{
 "cells": [
  {
   "cell_type": "code",
   "execution_count": 46,
   "id": "8d58cd8b",
   "metadata": {},
   "outputs": [],
   "source": [
    "import numpy as np\n",
    "import pandas as pd"
   ]
  },
  {
   "cell_type": "code",
   "execution_count": 47,
   "id": "2d95496c",
   "metadata": {},
   "outputs": [
    {
     "data": {
      "text/html": [
       "<div>\n",
       "<style scoped>\n",
       "    .dataframe tbody tr th:only-of-type {\n",
       "        vertical-align: middle;\n",
       "    }\n",
       "\n",
       "    .dataframe tbody tr th {\n",
       "        vertical-align: top;\n",
       "    }\n",
       "\n",
       "    .dataframe thead th {\n",
       "        text-align: right;\n",
       "    }\n",
       "</style>\n",
       "<table border=\"1\" class=\"dataframe\">\n",
       "  <thead>\n",
       "    <tr style=\"text-align: right;\">\n",
       "      <th></th>\n",
       "      <th>RowNumber</th>\n",
       "      <th>CustomerId</th>\n",
       "      <th>Surname</th>\n",
       "      <th>CreditScore</th>\n",
       "      <th>Geography</th>\n",
       "      <th>Gender</th>\n",
       "      <th>Age</th>\n",
       "      <th>Tenure</th>\n",
       "      <th>Balance</th>\n",
       "      <th>NumOfProducts</th>\n",
       "      <th>HasCrCard</th>\n",
       "      <th>IsActiveMember</th>\n",
       "      <th>EstimatedSalary</th>\n",
       "      <th>Exited</th>\n",
       "    </tr>\n",
       "  </thead>\n",
       "  <tbody>\n",
       "    <tr>\n",
       "      <th>0</th>\n",
       "      <td>1</td>\n",
       "      <td>15634602</td>\n",
       "      <td>Hargrave</td>\n",
       "      <td>619</td>\n",
       "      <td>France</td>\n",
       "      <td>Female</td>\n",
       "      <td>42</td>\n",
       "      <td>2</td>\n",
       "      <td>0.00</td>\n",
       "      <td>1</td>\n",
       "      <td>1</td>\n",
       "      <td>1</td>\n",
       "      <td>101348.88</td>\n",
       "      <td>1</td>\n",
       "    </tr>\n",
       "    <tr>\n",
       "      <th>1</th>\n",
       "      <td>2</td>\n",
       "      <td>15647311</td>\n",
       "      <td>Hill</td>\n",
       "      <td>608</td>\n",
       "      <td>Spain</td>\n",
       "      <td>Female</td>\n",
       "      <td>41</td>\n",
       "      <td>1</td>\n",
       "      <td>83807.86</td>\n",
       "      <td>1</td>\n",
       "      <td>0</td>\n",
       "      <td>1</td>\n",
       "      <td>112542.58</td>\n",
       "      <td>0</td>\n",
       "    </tr>\n",
       "    <tr>\n",
       "      <th>2</th>\n",
       "      <td>3</td>\n",
       "      <td>15619304</td>\n",
       "      <td>Onio</td>\n",
       "      <td>502</td>\n",
       "      <td>France</td>\n",
       "      <td>Female</td>\n",
       "      <td>42</td>\n",
       "      <td>8</td>\n",
       "      <td>159660.80</td>\n",
       "      <td>3</td>\n",
       "      <td>1</td>\n",
       "      <td>0</td>\n",
       "      <td>113931.57</td>\n",
       "      <td>1</td>\n",
       "    </tr>\n",
       "    <tr>\n",
       "      <th>3</th>\n",
       "      <td>4</td>\n",
       "      <td>15701354</td>\n",
       "      <td>Boni</td>\n",
       "      <td>699</td>\n",
       "      <td>France</td>\n",
       "      <td>Female</td>\n",
       "      <td>39</td>\n",
       "      <td>1</td>\n",
       "      <td>0.00</td>\n",
       "      <td>2</td>\n",
       "      <td>0</td>\n",
       "      <td>0</td>\n",
       "      <td>93826.63</td>\n",
       "      <td>0</td>\n",
       "    </tr>\n",
       "    <tr>\n",
       "      <th>4</th>\n",
       "      <td>5</td>\n",
       "      <td>15737888</td>\n",
       "      <td>Mitchell</td>\n",
       "      <td>850</td>\n",
       "      <td>Spain</td>\n",
       "      <td>Female</td>\n",
       "      <td>43</td>\n",
       "      <td>2</td>\n",
       "      <td>125510.82</td>\n",
       "      <td>1</td>\n",
       "      <td>1</td>\n",
       "      <td>1</td>\n",
       "      <td>79084.10</td>\n",
       "      <td>0</td>\n",
       "    </tr>\n",
       "  </tbody>\n",
       "</table>\n",
       "</div>"
      ],
      "text/plain": [
       "   RowNumber  CustomerId   Surname  CreditScore Geography  Gender  Age  \\\n",
       "0          1    15634602  Hargrave          619    France  Female   42   \n",
       "1          2    15647311      Hill          608     Spain  Female   41   \n",
       "2          3    15619304      Onio          502    France  Female   42   \n",
       "3          4    15701354      Boni          699    France  Female   39   \n",
       "4          5    15737888  Mitchell          850     Spain  Female   43   \n",
       "\n",
       "   Tenure    Balance  NumOfProducts  HasCrCard  IsActiveMember  \\\n",
       "0       2       0.00              1          1               1   \n",
       "1       1   83807.86              1          0               1   \n",
       "2       8  159660.80              3          1               0   \n",
       "3       1       0.00              2          0               0   \n",
       "4       2  125510.82              1          1               1   \n",
       "\n",
       "   EstimatedSalary  Exited  \n",
       "0        101348.88       1  \n",
       "1        112542.58       0  \n",
       "2        113931.57       1  \n",
       "3         93826.63       0  \n",
       "4         79084.10       0  "
      ]
     },
     "execution_count": 47,
     "metadata": {},
     "output_type": "execute_result"
    }
   ],
   "source": [
    "df = pd.read_csv(\"Churn_Modelling.csv\")\n",
    "df.head()"
   ]
  },
  {
   "cell_type": "code",
   "execution_count": 48,
   "id": "15337c35",
   "metadata": {},
   "outputs": [
    {
     "data": {
      "text/plain": [
       "(10000, 14)"
      ]
     },
     "execution_count": 48,
     "metadata": {},
     "output_type": "execute_result"
    }
   ],
   "source": [
    "df.shape"
   ]
  },
  {
   "cell_type": "code",
   "execution_count": 49,
   "id": "4df0afe1",
   "metadata": {},
   "outputs": [],
   "source": [
    "X = df.iloc[: , 3:13]\n",
    "y = df.iloc[: , 13]"
   ]
  },
  {
   "cell_type": "code",
   "execution_count": 50,
   "id": "147e41b8",
   "metadata": {},
   "outputs": [],
   "source": [
    "geography = pd.get_dummies(X['Geography'] , drop_first=True)\n",
    "gender = pd.get_dummies(X['Gender'] , drop_first=True)"
   ]
  },
  {
   "cell_type": "code",
   "execution_count": 51,
   "id": "41c6c536",
   "metadata": {},
   "outputs": [],
   "source": [
    "X=pd.concat([X,geography,gender], axis=1)"
   ]
  },
  {
   "cell_type": "code",
   "execution_count": 52,
   "id": "c1cdbe17",
   "metadata": {},
   "outputs": [],
   "source": [
    "X=X.drop(['Geography','Gender'] , axis=1)"
   ]
  },
  {
   "cell_type": "code",
   "execution_count": 53,
   "id": "454d1d9a",
   "metadata": {},
   "outputs": [],
   "source": [
    "from sklearn.model_selection import train_test_split\n"
   ]
  },
  {
   "cell_type": "code",
   "execution_count": 54,
   "id": "032c88fd",
   "metadata": {},
   "outputs": [],
   "source": [
    "X_train,X_test,y_train,y_test = train_test_split(X,y,test_size=0.2,random_state=0)"
   ]
  },
  {
   "cell_type": "code",
   "execution_count": 55,
   "id": "59edea5e",
   "metadata": {},
   "outputs": [],
   "source": [
    "from sklearn.preprocessing import StandardScaler"
   ]
  },
  {
   "cell_type": "code",
   "execution_count": 56,
   "id": "145b74b9",
   "metadata": {},
   "outputs": [],
   "source": [
    "sc= StandardScaler()"
   ]
  },
  {
   "cell_type": "code",
   "execution_count": 57,
   "id": "884f9fe8",
   "metadata": {},
   "outputs": [],
   "source": [
    "X_train= sc.fit_transform(X_train)"
   ]
  },
  {
   "cell_type": "code",
   "execution_count": 58,
   "id": "209088fa",
   "metadata": {},
   "outputs": [],
   "source": [
    "X_test = sc.transform(X_test)"
   ]
  },
  {
   "cell_type": "markdown",
   "id": "90b34601",
   "metadata": {},
   "source": [
    "### importing keras library"
   ]
  },
  {
   "cell_type": "code",
   "execution_count": 59,
   "id": "18a38289",
   "metadata": {},
   "outputs": [],
   "source": [
    "import keras"
   ]
  },
  {
   "cell_type": "code",
   "execution_count": 60,
   "id": "b1bf16d0",
   "metadata": {},
   "outputs": [],
   "source": [
    "from keras.models import Sequential\n",
    "from keras.layers import Dense\n",
    "from keras.layers import Dropout\n"
   ]
  },
  {
   "cell_type": "markdown",
   "id": "dca97df6",
   "metadata": {},
   "source": [
    "### intialising the ANN"
   ]
  },
  {
   "cell_type": "code",
   "execution_count": 76,
   "id": "e48b22c2",
   "metadata": {},
   "outputs": [],
   "source": [
    "classifier = Sequential()"
   ]
  },
  {
   "cell_type": "markdown",
   "id": "7abf3716",
   "metadata": {},
   "source": [
    "### Adding the input layer and the first hidden layer"
   ]
  },
  {
   "cell_type": "code",
   "execution_count": 77,
   "id": "4e95062c",
   "metadata": {},
   "outputs": [],
   "source": [
    "classifier.add(Dense(units=6,kernel_initializer='he_uniform' , activation=\"relu\" , input_dim=11))\n",
    "classifier.add(Dropout(0.3))"
   ]
  },
  {
   "cell_type": "markdown",
   "id": "6481e2c3",
   "metadata": {},
   "source": [
    "### Adding the second hidden layer"
   ]
  },
  {
   "cell_type": "code",
   "execution_count": 78,
   "id": "7ac73f07",
   "metadata": {},
   "outputs": [],
   "source": [
    "classifier.add(Dense(units=6,kernel_initializer='he_uniform' , activation=\"relu\" ))\n",
    "classifier.add(Dropout(0.3))"
   ]
  },
  {
   "cell_type": "markdown",
   "id": "f3f2cf32",
   "metadata": {},
   "source": [
    "### Adding the third hidden layer"
   ]
  },
  {
   "cell_type": "code",
   "execution_count": 79,
   "id": "a03bb989",
   "metadata": {},
   "outputs": [],
   "source": [
    "classifier.add(Dense(units=1,kernel_initializer='he_uniform' , activation=\"sigmoid\" ))\n"
   ]
  },
  {
   "cell_type": "code",
   "execution_count": 80,
   "id": "4fce4b7a",
   "metadata": {},
   "outputs": [
    {
     "name": "stdout",
     "output_type": "stream",
     "text": [
      "Model: \"sequential_2\"\n",
      "_________________________________________________________________\n",
      " Layer (type)                Output Shape              Param #   \n",
      "=================================================================\n",
      " dense_7 (Dense)             (None, 6)                 72        \n",
      "                                                                 \n",
      " dropout (Dropout)           (None, 6)                 0         \n",
      "                                                                 \n",
      " dense_8 (Dense)             (None, 6)                 42        \n",
      "                                                                 \n",
      " dropout_1 (Dropout)         (None, 6)                 0         \n",
      "                                                                 \n",
      " dense_9 (Dense)             (None, 1)                 7         \n",
      "                                                                 \n",
      "=================================================================\n",
      "Total params: 121\n",
      "Trainable params: 121\n",
      "Non-trainable params: 0\n",
      "_________________________________________________________________\n"
     ]
    }
   ],
   "source": [
    "classifier.summary()"
   ]
  },
  {
   "cell_type": "markdown",
   "id": "d31ae81b",
   "metadata": {},
   "source": [
    "### Compiling the ANN"
   ]
  },
  {
   "cell_type": "code",
   "execution_count": 81,
   "id": "4d80ba43",
   "metadata": {},
   "outputs": [],
   "source": [
    "classifier.compile(optimizer='adam' , loss='binary_crossentropy' , metrics=['accuracy'])"
   ]
  },
  {
   "cell_type": "markdown",
   "id": "1f9ae9be",
   "metadata": {},
   "source": [
    "### Fitting the ANN in training set"
   ]
  },
  {
   "cell_type": "code",
   "execution_count": 82,
   "id": "dc6475e3",
   "metadata": {},
   "outputs": [
    {
     "name": "stdout",
     "output_type": "stream",
     "text": [
      "Epoch 1/100\n",
      "536/536 [==============================] - 2s 2ms/step - loss: 0.5971 - accuracy: 0.7430 - val_loss: 0.5049 - val_accuracy: 0.7955\n",
      "Epoch 2/100\n",
      "536/536 [==============================] - 1s 2ms/step - loss: 0.5210 - accuracy: 0.7979 - val_loss: 0.4819 - val_accuracy: 0.7955\n",
      "Epoch 3/100\n",
      "536/536 [==============================] - 1s 2ms/step - loss: 0.5002 - accuracy: 0.7988 - val_loss: 0.4696 - val_accuracy: 0.7955\n",
      "Epoch 4/100\n",
      "536/536 [==============================] - 1s 2ms/step - loss: 0.4862 - accuracy: 0.7981 - val_loss: 0.4633 - val_accuracy: 0.7959\n",
      "Epoch 5/100\n",
      "536/536 [==============================] - 1s 2ms/step - loss: 0.4803 - accuracy: 0.8005 - val_loss: 0.4566 - val_accuracy: 0.7959\n",
      "Epoch 6/100\n",
      "536/536 [==============================] - 1s 2ms/step - loss: 0.4745 - accuracy: 0.8005 - val_loss: 0.4515 - val_accuracy: 0.7955\n",
      "Epoch 7/100\n",
      "536/536 [==============================] - 1s 3ms/step - loss: 0.4677 - accuracy: 0.8011 - val_loss: 0.4474 - val_accuracy: 0.7955\n",
      "Epoch 8/100\n",
      "536/536 [==============================] - 1s 3ms/step - loss: 0.4624 - accuracy: 0.8015 - val_loss: 0.4446 - val_accuracy: 0.7963\n",
      "Epoch 9/100\n",
      "536/536 [==============================] - 1s 2ms/step - loss: 0.4600 - accuracy: 0.8054 - val_loss: 0.4418 - val_accuracy: 0.7952\n",
      "Epoch 10/100\n",
      "536/536 [==============================] - 1s 2ms/step - loss: 0.4574 - accuracy: 0.8028 - val_loss: 0.4388 - val_accuracy: 0.7955\n",
      "Epoch 11/100\n",
      "536/536 [==============================] - 1s 2ms/step - loss: 0.4548 - accuracy: 0.8087 - val_loss: 0.4369 - val_accuracy: 0.7952\n",
      "Epoch 12/100\n",
      "536/536 [==============================] - 1s 2ms/step - loss: 0.4548 - accuracy: 0.8029 - val_loss: 0.4352 - val_accuracy: 0.7955\n",
      "Epoch 13/100\n",
      "536/536 [==============================] - 1s 2ms/step - loss: 0.4513 - accuracy: 0.8061 - val_loss: 0.4330 - val_accuracy: 0.7963\n",
      "Epoch 14/100\n",
      "536/536 [==============================] - 1s 2ms/step - loss: 0.4424 - accuracy: 0.8082 - val_loss: 0.4303 - val_accuracy: 0.7974\n",
      "Epoch 15/100\n",
      "536/536 [==============================] - 1s 2ms/step - loss: 0.4408 - accuracy: 0.8104 - val_loss: 0.4273 - val_accuracy: 0.7974\n",
      "Epoch 16/100\n",
      "536/536 [==============================] - 1s 2ms/step - loss: 0.4393 - accuracy: 0.8169 - val_loss: 0.4265 - val_accuracy: 0.7982\n",
      "Epoch 17/100\n",
      "536/536 [==============================] - 1s 2ms/step - loss: 0.4367 - accuracy: 0.8138 - val_loss: 0.4221 - val_accuracy: 0.7974\n",
      "Epoch 18/100\n",
      "536/536 [==============================] - 1s 2ms/step - loss: 0.4449 - accuracy: 0.8113 - val_loss: 0.4248 - val_accuracy: 0.7974\n",
      "Epoch 19/100\n",
      "536/536 [==============================] - 1s 2ms/step - loss: 0.4401 - accuracy: 0.8108 - val_loss: 0.4232 - val_accuracy: 0.7997\n",
      "Epoch 20/100\n",
      "536/536 [==============================] - 1s 3ms/step - loss: 0.4371 - accuracy: 0.8132 - val_loss: 0.4182 - val_accuracy: 0.8008\n",
      "Epoch 21/100\n",
      "536/536 [==============================] - 1s 3ms/step - loss: 0.4324 - accuracy: 0.8147 - val_loss: 0.4131 - val_accuracy: 0.8008\n",
      "Epoch 22/100\n",
      "536/536 [==============================] - 1s 2ms/step - loss: 0.4345 - accuracy: 0.8141 - val_loss: 0.4117 - val_accuracy: 0.7997\n",
      "Epoch 23/100\n",
      "536/536 [==============================] - 1s 2ms/step - loss: 0.4293 - accuracy: 0.8179 - val_loss: 0.4097 - val_accuracy: 0.8020\n",
      "Epoch 24/100\n",
      "536/536 [==============================] - 1s 2ms/step - loss: 0.4347 - accuracy: 0.8102 - val_loss: 0.4101 - val_accuracy: 0.7982\n",
      "Epoch 25/100\n",
      "536/536 [==============================] - 1s 2ms/step - loss: 0.4317 - accuracy: 0.8136 - val_loss: 0.4069 - val_accuracy: 0.8020\n",
      "Epoch 26/100\n",
      "536/536 [==============================] - 1s 2ms/step - loss: 0.4261 - accuracy: 0.8149 - val_loss: 0.4044 - val_accuracy: 0.8058\n",
      "Epoch 27/100\n",
      "536/536 [==============================] - 1s 2ms/step - loss: 0.4208 - accuracy: 0.8184 - val_loss: 0.4023 - val_accuracy: 0.8076\n",
      "Epoch 28/100\n",
      "536/536 [==============================] - 1s 2ms/step - loss: 0.4212 - accuracy: 0.8190 - val_loss: 0.4016 - val_accuracy: 0.8073\n",
      "Epoch 29/100\n",
      "536/536 [==============================] - 1s 2ms/step - loss: 0.4207 - accuracy: 0.8190 - val_loss: 0.4008 - val_accuracy: 0.8058\n",
      "Epoch 30/100\n",
      "536/536 [==============================] - 1s 2ms/step - loss: 0.4271 - accuracy: 0.8160 - val_loss: 0.4007 - val_accuracy: 0.8076\n",
      "Epoch 31/100\n",
      "536/536 [==============================] - 1s 2ms/step - loss: 0.4235 - accuracy: 0.8182 - val_loss: 0.3984 - val_accuracy: 0.8103\n",
      "Epoch 32/100\n",
      "536/536 [==============================] - 1s 3ms/step - loss: 0.4193 - accuracy: 0.8205 - val_loss: 0.3951 - val_accuracy: 0.8201\n",
      "Epoch 33/100\n",
      "536/536 [==============================] - 1s 3ms/step - loss: 0.4146 - accuracy: 0.8169 - val_loss: 0.3952 - val_accuracy: 0.8186\n",
      "Epoch 34/100\n",
      "536/536 [==============================] - 1s 2ms/step - loss: 0.4125 - accuracy: 0.8214 - val_loss: 0.3920 - val_accuracy: 0.8224\n",
      "Epoch 35/100\n",
      "536/536 [==============================] - 1s 2ms/step - loss: 0.4191 - accuracy: 0.8169 - val_loss: 0.3932 - val_accuracy: 0.8194\n",
      "Epoch 36/100\n",
      "536/536 [==============================] - 1s 2ms/step - loss: 0.4163 - accuracy: 0.8194 - val_loss: 0.3930 - val_accuracy: 0.8239\n",
      "Epoch 37/100\n",
      "536/536 [==============================] - 1s 2ms/step - loss: 0.4177 - accuracy: 0.8201 - val_loss: 0.3925 - val_accuracy: 0.8232\n",
      "Epoch 38/100\n",
      "536/536 [==============================] - 1s 2ms/step - loss: 0.4144 - accuracy: 0.8169 - val_loss: 0.3899 - val_accuracy: 0.8243\n",
      "Epoch 39/100\n",
      "536/536 [==============================] - 1s 2ms/step - loss: 0.4153 - accuracy: 0.8212 - val_loss: 0.3876 - val_accuracy: 0.8281\n",
      "Epoch 40/100\n",
      "536/536 [==============================] - 1s 2ms/step - loss: 0.4169 - accuracy: 0.8194 - val_loss: 0.3884 - val_accuracy: 0.8254\n",
      "Epoch 41/100\n",
      "536/536 [==============================] - 1s 2ms/step - loss: 0.4144 - accuracy: 0.8229 - val_loss: 0.3862 - val_accuracy: 0.8326\n",
      "Epoch 42/100\n",
      "536/536 [==============================] - 1s 2ms/step - loss: 0.4101 - accuracy: 0.8259 - val_loss: 0.3849 - val_accuracy: 0.8334\n",
      "Epoch 43/100\n",
      "536/536 [==============================] - 1s 2ms/step - loss: 0.4123 - accuracy: 0.8225 - val_loss: 0.3858 - val_accuracy: 0.8285\n",
      "Epoch 44/100\n",
      "536/536 [==============================] - 1s 2ms/step - loss: 0.4110 - accuracy: 0.8210 - val_loss: 0.3839 - val_accuracy: 0.8296\n",
      "Epoch 45/100\n",
      "536/536 [==============================] - 1s 3ms/step - loss: 0.4162 - accuracy: 0.8225 - val_loss: 0.3861 - val_accuracy: 0.8266\n",
      "Epoch 46/100\n",
      "536/536 [==============================] - 1s 3ms/step - loss: 0.4050 - accuracy: 0.8255 - val_loss: 0.3810 - val_accuracy: 0.8289\n",
      "Epoch 47/100\n",
      "536/536 [==============================] - 1s 3ms/step - loss: 0.4111 - accuracy: 0.8181 - val_loss: 0.3835 - val_accuracy: 0.8292\n",
      "Epoch 48/100\n",
      "536/536 [==============================] - 1s 2ms/step - loss: 0.4086 - accuracy: 0.8289 - val_loss: 0.3830 - val_accuracy: 0.8311\n",
      "Epoch 49/100\n",
      "536/536 [==============================] - 1s 2ms/step - loss: 0.4106 - accuracy: 0.8238 - val_loss: 0.3826 - val_accuracy: 0.8300\n",
      "Epoch 50/100\n",
      "536/536 [==============================] - 1s 2ms/step - loss: 0.4135 - accuracy: 0.8233 - val_loss: 0.3823 - val_accuracy: 0.8311\n",
      "Epoch 51/100\n",
      "536/536 [==============================] - 1s 2ms/step - loss: 0.4097 - accuracy: 0.8233 - val_loss: 0.3807 - val_accuracy: 0.8334\n",
      "Epoch 52/100\n",
      "536/536 [==============================] - 1s 2ms/step - loss: 0.4180 - accuracy: 0.8233 - val_loss: 0.3822 - val_accuracy: 0.8300\n",
      "Epoch 53/100\n",
      "536/536 [==============================] - 1s 2ms/step - loss: 0.4099 - accuracy: 0.8224 - val_loss: 0.3811 - val_accuracy: 0.8334\n",
      "Epoch 54/100\n",
      "536/536 [==============================] - 1s 2ms/step - loss: 0.4100 - accuracy: 0.8250 - val_loss: 0.3808 - val_accuracy: 0.8300\n",
      "Epoch 55/100\n",
      "536/536 [==============================] - 1s 2ms/step - loss: 0.4045 - accuracy: 0.8252 - val_loss: 0.3791 - val_accuracy: 0.8307\n",
      "Epoch 56/100\n",
      "536/536 [==============================] - 1s 2ms/step - loss: 0.4084 - accuracy: 0.8276 - val_loss: 0.3793 - val_accuracy: 0.8323\n",
      "Epoch 57/100\n",
      "536/536 [==============================] - 1s 2ms/step - loss: 0.4042 - accuracy: 0.8261 - val_loss: 0.3790 - val_accuracy: 0.8304\n"
     ]
    },
    {
     "name": "stdout",
     "output_type": "stream",
     "text": [
      "Epoch 58/100\n",
      "536/536 [==============================] - 1s 3ms/step - loss: 0.4100 - accuracy: 0.8222 - val_loss: 0.3786 - val_accuracy: 0.8334\n",
      "Epoch 59/100\n",
      "536/536 [==============================] - 1s 3ms/step - loss: 0.4123 - accuracy: 0.8242 - val_loss: 0.3797 - val_accuracy: 0.8330\n",
      "Epoch 60/100\n",
      "536/536 [==============================] - 1s 2ms/step - loss: 0.4035 - accuracy: 0.8257 - val_loss: 0.3773 - val_accuracy: 0.8357\n",
      "Epoch 61/100\n",
      "536/536 [==============================] - 1s 2ms/step - loss: 0.4098 - accuracy: 0.8257 - val_loss: 0.3780 - val_accuracy: 0.8353\n",
      "Epoch 62/100\n",
      "536/536 [==============================] - 1s 2ms/step - loss: 0.4074 - accuracy: 0.8203 - val_loss: 0.3785 - val_accuracy: 0.8334\n",
      "Epoch 63/100\n",
      "536/536 [==============================] - 1s 2ms/step - loss: 0.4052 - accuracy: 0.8261 - val_loss: 0.3772 - val_accuracy: 0.8338\n",
      "Epoch 64/100\n",
      "536/536 [==============================] - 1s 2ms/step - loss: 0.4033 - accuracy: 0.8280 - val_loss: 0.3769 - val_accuracy: 0.8379\n",
      "Epoch 65/100\n",
      "536/536 [==============================] - 1s 2ms/step - loss: 0.4087 - accuracy: 0.8259 - val_loss: 0.3770 - val_accuracy: 0.8402\n",
      "Epoch 66/100\n",
      "536/536 [==============================] - 1s 2ms/step - loss: 0.4066 - accuracy: 0.8270 - val_loss: 0.3782 - val_accuracy: 0.8360\n",
      "Epoch 67/100\n",
      "536/536 [==============================] - 1s 2ms/step - loss: 0.4083 - accuracy: 0.8218 - val_loss: 0.3770 - val_accuracy: 0.8376\n",
      "Epoch 68/100\n",
      "536/536 [==============================] - 1s 2ms/step - loss: 0.4056 - accuracy: 0.8227 - val_loss: 0.3768 - val_accuracy: 0.8383\n",
      "Epoch 69/100\n",
      "536/536 [==============================] - 1s 2ms/step - loss: 0.4129 - accuracy: 0.8190 - val_loss: 0.3789 - val_accuracy: 0.8323\n",
      "Epoch 70/100\n",
      "536/536 [==============================] - 1s 2ms/step - loss: 0.4099 - accuracy: 0.8218 - val_loss: 0.3787 - val_accuracy: 0.8387\n",
      "Epoch 71/100\n",
      "536/536 [==============================] - 1s 3ms/step - loss: 0.4110 - accuracy: 0.8216 - val_loss: 0.3792 - val_accuracy: 0.8398\n",
      "Epoch 72/100\n",
      "536/536 [==============================] - 1s 2ms/step - loss: 0.4050 - accuracy: 0.8287 - val_loss: 0.3785 - val_accuracy: 0.8395\n",
      "Epoch 73/100\n",
      "536/536 [==============================] - 1s 2ms/step - loss: 0.4089 - accuracy: 0.8231 - val_loss: 0.3792 - val_accuracy: 0.8334\n",
      "Epoch 74/100\n",
      "536/536 [==============================] - 1s 2ms/step - loss: 0.4083 - accuracy: 0.8227 - val_loss: 0.3786 - val_accuracy: 0.8353\n",
      "Epoch 75/100\n",
      "536/536 [==============================] - 1s 2ms/step - loss: 0.4061 - accuracy: 0.8242 - val_loss: 0.3781 - val_accuracy: 0.8357\n",
      "Epoch 76/100\n",
      "536/536 [==============================] - 1s 2ms/step - loss: 0.4157 - accuracy: 0.8246 - val_loss: 0.3793 - val_accuracy: 0.8376\n",
      "Epoch 77/100\n",
      "536/536 [==============================] - 1s 2ms/step - loss: 0.4062 - accuracy: 0.8240 - val_loss: 0.3774 - val_accuracy: 0.8387\n",
      "Epoch 78/100\n",
      "536/536 [==============================] - 1s 2ms/step - loss: 0.4032 - accuracy: 0.8280 - val_loss: 0.3767 - val_accuracy: 0.8417\n",
      "Epoch 79/100\n",
      "536/536 [==============================] - 1s 2ms/step - loss: 0.4052 - accuracy: 0.8266 - val_loss: 0.3774 - val_accuracy: 0.8391\n",
      "Epoch 80/100\n",
      "536/536 [==============================] - 1s 2ms/step - loss: 0.4069 - accuracy: 0.8266 - val_loss: 0.3773 - val_accuracy: 0.8376\n",
      "Epoch 81/100\n",
      "536/536 [==============================] - 1s 2ms/step - loss: 0.4046 - accuracy: 0.8235 - val_loss: 0.3771 - val_accuracy: 0.8364\n",
      "Epoch 82/100\n",
      "536/536 [==============================] - 1s 2ms/step - loss: 0.4047 - accuracy: 0.8263 - val_loss: 0.3762 - val_accuracy: 0.8395\n",
      "Epoch 83/100\n",
      "536/536 [==============================] - 1s 2ms/step - loss: 0.4064 - accuracy: 0.8244 - val_loss: 0.3762 - val_accuracy: 0.8387\n",
      "Epoch 84/100\n",
      "536/536 [==============================] - 1s 2ms/step - loss: 0.4037 - accuracy: 0.8240 - val_loss: 0.3757 - val_accuracy: 0.8383\n",
      "Epoch 85/100\n",
      "536/536 [==============================] - 1s 3ms/step - loss: 0.4074 - accuracy: 0.8220 - val_loss: 0.3747 - val_accuracy: 0.8432\n",
      "Epoch 86/100\n",
      "536/536 [==============================] - 1s 2ms/step - loss: 0.4022 - accuracy: 0.8257 - val_loss: 0.3757 - val_accuracy: 0.8391\n",
      "Epoch 87/100\n",
      "536/536 [==============================] - 1s 2ms/step - loss: 0.3989 - accuracy: 0.8296 - val_loss: 0.3768 - val_accuracy: 0.8342\n",
      "Epoch 88/100\n",
      "536/536 [==============================] - 1s 2ms/step - loss: 0.4133 - accuracy: 0.8196 - val_loss: 0.3784 - val_accuracy: 0.8319\n",
      "Epoch 89/100\n",
      "536/536 [==============================] - 1s 2ms/step - loss: 0.4107 - accuracy: 0.8266 - val_loss: 0.3785 - val_accuracy: 0.8364\n",
      "Epoch 90/100\n",
      "536/536 [==============================] - 1s 2ms/step - loss: 0.4080 - accuracy: 0.8252 - val_loss: 0.3765 - val_accuracy: 0.8395\n",
      "Epoch 91/100\n",
      "536/536 [==============================] - 1s 2ms/step - loss: 0.4059 - accuracy: 0.8222 - val_loss: 0.3769 - val_accuracy: 0.8383\n",
      "Epoch 92/100\n",
      "536/536 [==============================] - 1s 3ms/step - loss: 0.4070 - accuracy: 0.8287 - val_loss: 0.3785 - val_accuracy: 0.8379\n",
      "Epoch 93/100\n",
      "536/536 [==============================] - 2s 3ms/step - loss: 0.4063 - accuracy: 0.8255 - val_loss: 0.3793 - val_accuracy: 0.8353\n",
      "Epoch 94/100\n",
      "536/536 [==============================] - 2s 3ms/step - loss: 0.4046 - accuracy: 0.8272 - val_loss: 0.3767 - val_accuracy: 0.8402\n",
      "Epoch 95/100\n",
      "536/536 [==============================] - 2s 4ms/step - loss: 0.4099 - accuracy: 0.8259 - val_loss: 0.3784 - val_accuracy: 0.8376\n",
      "Epoch 96/100\n",
      "536/536 [==============================] - 2s 4ms/step - loss: 0.4105 - accuracy: 0.8263 - val_loss: 0.3797 - val_accuracy: 0.8360\n",
      "Epoch 97/100\n",
      "536/536 [==============================] - 2s 4ms/step - loss: 0.4051 - accuracy: 0.8235 - val_loss: 0.3802 - val_accuracy: 0.8285\n",
      "Epoch 98/100\n",
      "536/536 [==============================] - 1s 3ms/step - loss: 0.4012 - accuracy: 0.8244 - val_loss: 0.3781 - val_accuracy: 0.8360\n",
      "Epoch 99/100\n",
      "536/536 [==============================] - 1s 3ms/step - loss: 0.4045 - accuracy: 0.8238 - val_loss: 0.3783 - val_accuracy: 0.8387\n",
      "Epoch 100/100\n",
      "536/536 [==============================] - 1s 2ms/step - loss: 0.4033 - accuracy: 0.8278 - val_loss: 0.3801 - val_accuracy: 0.8357\n"
     ]
    }
   ],
   "source": [
    "model_history = classifier.fit(X_train,y_train,validation_split=0.33,batch_size=10,epochs=100)"
   ]
  },
  {
   "cell_type": "markdown",
   "id": "355c4c44",
   "metadata": {},
   "source": [
    "### Making the predictions and evaluting model"
   ]
  },
  {
   "cell_type": "markdown",
   "id": "e9cbf341",
   "metadata": {},
   "source": [
    "### predicting the test result"
   ]
  },
  {
   "cell_type": "code",
   "execution_count": 83,
   "id": "0e62a82b",
   "metadata": {
    "scrolled": true
   },
   "outputs": [
    {
     "name": "stdout",
     "output_type": "stream",
     "text": [
      "63/63 [==============================] - 0s 1ms/step\n"
     ]
    }
   ],
   "source": [
    "y_pred =classifier.predict(X_test)"
   ]
  },
  {
   "cell_type": "code",
   "execution_count": 84,
   "id": "3c02d3cd",
   "metadata": {},
   "outputs": [],
   "source": [
    "y_pred = (y_pred>0.5)"
   ]
  },
  {
   "cell_type": "markdown",
   "id": "e7ba3552",
   "metadata": {},
   "source": [
    "### confusion matrix"
   ]
  },
  {
   "cell_type": "code",
   "execution_count": 85,
   "id": "b19cc70e",
   "metadata": {},
   "outputs": [],
   "source": [
    "from sklearn.metrics import confusion_matrix"
   ]
  },
  {
   "cell_type": "code",
   "execution_count": 86,
   "id": "c6ca8642",
   "metadata": {},
   "outputs": [],
   "source": [
    "cmm = confusion_matrix(y_test,y_pred)"
   ]
  },
  {
   "cell_type": "code",
   "execution_count": 87,
   "id": "68f76def",
   "metadata": {},
   "outputs": [
    {
     "data": {
      "text/plain": [
       "array([[1580,   15],\n",
       "       [ 303,  102]], dtype=int64)"
      ]
     },
     "execution_count": 87,
     "metadata": {},
     "output_type": "execute_result"
    }
   ],
   "source": [
    "cmm"
   ]
  },
  {
   "cell_type": "markdown",
   "id": "340a11cb",
   "metadata": {},
   "source": [
    "### calculate the Accuracy"
   ]
  },
  {
   "cell_type": "code",
   "execution_count": 88,
   "id": "8a8afbda",
   "metadata": {},
   "outputs": [],
   "source": [
    "from sklearn.metrics import accuracy_score"
   ]
  },
  {
   "cell_type": "code",
   "execution_count": 89,
   "id": "a90907ce",
   "metadata": {},
   "outputs": [],
   "source": [
    "score =accuracy_score(y_pred,y_test)"
   ]
  },
  {
   "cell_type": "code",
   "execution_count": 90,
   "id": "81c8157b",
   "metadata": {},
   "outputs": [
    {
     "data": {
      "text/plain": [
       "0.841"
      ]
     },
     "execution_count": 90,
     "metadata": {},
     "output_type": "execute_result"
    }
   ],
   "source": [
    "score"
   ]
  },
  {
   "cell_type": "code",
   "execution_count": null,
   "id": "6b27a62c",
   "metadata": {},
   "outputs": [],
   "source": []
  }
 ],
 "metadata": {
  "kernelspec": {
   "display_name": "Python 3 (ipykernel)",
   "language": "python",
   "name": "python3"
  },
  "language_info": {
   "codemirror_mode": {
    "name": "ipython",
    "version": 3
   },
   "file_extension": ".py",
   "mimetype": "text/x-python",
   "name": "python",
   "nbconvert_exporter": "python",
   "pygments_lexer": "ipython3",
   "version": "3.9.7"
  }
 },
 "nbformat": 4,
 "nbformat_minor": 5
}
